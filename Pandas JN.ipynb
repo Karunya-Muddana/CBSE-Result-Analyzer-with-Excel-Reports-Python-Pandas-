{
 "cells": [
  {
   "cell_type": "code",
   "execution_count": null,
   "id": "41d3ce5e",
   "metadata": {},
   "outputs": [],
   "source": [
    "import pandas as pd\n",
    "import matplotlib.pyplot as plt\n",
    "import re\n",
    "import jinja2\n",
    "from openpyxl import load_workbook\n",
    "from openpyxl.drawing.image import Image as XLImage\n",
    "\n",
    "def analyze_subject(df, subject_name, subject_grade_col):\n",
    "    print(f\"\\nAnalyzing subject: {subject_name}\\n\")\n",
    "\n",
    "    subject_table = df[['Name', 'Roll Number', subject_name, subject_grade_col]]\n",
    "    subject_sorted = subject_table.sort_values(by=subject_name, ascending=False)\n",
    "    top_10 = subject_sorted.head(10)\n",
    "    print(\"Top 10 Scorers:\")\n",
    "    print(top_10.to_string(index=False))\n",
    "\n",
    "    grade_counts = df[subject_grade_col].value_counts()\n",
    "    print(\"\\nGrade Distribution:\")\n",
    "    print(grade_counts)\n",
    "\n",
    "    mean_marks = df[subject_name].mean()\n",
    "    print(f\"\\nMean marks in {subject_name}: {mean_marks:.2f}\")\n",
    "    \n",
    "    imagefilename = f\"graph_image_{subject_name}.png\"\n",
    "\n",
    "    grade_counts.plot.pie(\n",
    "        autopct='%1.1f%%',\n",
    "        startangle=90,\n",
    "        shadow=True,\n",
    "        legend=True\n",
    "    )\n",
    "    plt.title(f\"Distribution of {subject_name} Grades\")\n",
    "    plt.ylabel('')\n",
    "    plt.savefig(imagefilename, bbox_inches='tight')\n",
    "    plt.close()\n",
    "\n",
    "    filename = f\"student_data_{subject_name}.xlsx\"\n",
    "    \n",
    "    with pd.ExcelWriter(filename, engine='openpyxl') as writer:\n",
    "        df.to_excel(writer, sheet_name='All Subjects', index=False)\n",
    "        subject_sorted.to_excel(writer, sheet_name=f'{subject_name} Only', index=False)\n",
    "        top_10.to_excel(writer, sheet_name=f'{subject_name} Top Scorers', index=False)\n",
    "        grade_counts.to_excel(writer, sheet_name=f'{subject_name} Grade Count', index=True)\n",
    "\n",
    "    wb = load_workbook(filename)\n",
    "    ws = wb[f'{subject_name} Grade Count']\n",
    "    img = XLImage(imagefilename)\n",
    "    ws.add_image(img, 'D2')\n",
    "    wb.save(filename)"
   ]
  },
  {
   "cell_type": "code",
   "execution_count": null,
   "id": "efdd9b47",
   "metadata": {},
   "outputs": [],
   "source": [
    "students = []"
   ]
  },
  {
   "cell_type": "code",
   "execution_count": null,
   "id": "78bbaca0",
   "metadata": {},
   "outputs": [],
   "source": [
    "with open(\"data.txt\", \"r\") as file:\n",
    "    lines = [line.strip() for line in file if line.strip()]"
   ]
  },
  {
   "cell_type": "markdown",
   "id": "acd81b68",
   "metadata": {},
   "source": [
    "line.strip() is a Python string method used to remove leading and trailing whitespace characters (spaces, tabs, newlines) from a string"
   ]
  },
  {
   "cell_type": "code",
   "execution_count": null,
   "id": "157073e1",
   "metadata": {},
   "outputs": [],
   "source": [
    "for i in range(0, len(lines) - 1, 2):\n",
    "    line1 = lines[i]\n",
    "    line2 = lines[i + 1]\n",
    "\n",
    "    match = re.match(r\"(\\d+)\\s+([MF])\\s+(.+?)\\s+(?:\\d+\\s+){5}\", line1)\n",
    "    if not match:\n",
    "        continue  \n",
    "\n",
    "    roll, gender, name = match.groups()\n",
    "\n",
    "    marks_grades = re.findall(r\"(\\d{3})\\s+([A-D][1-2])\", line2)\n",
    "    \n",
    "    student = {\n",
    "    \"Roll Number\": roll,\n",
    "    \"Name\": name.strip(),\n",
    "    \"Gender\": gender\n",
    "    }\n",
    "    for idx, (marks, grade) in enumerate(marks_grades, start=1):\n",
    "        student[f\"Subject{idx}_Marks\"] = int(marks)\n",
    "        student[f\"Subject{idx}_Grade\"] = grade\n",
    "    \n",
    "    students.append(student)\n"
   ]
  },
  {
   "cell_type": "markdown",
   "id": "390a19df",
   "metadata": {},
   "source": [
    "Continue ⬅ SKIPS to next student if the pattern doesn't match\n",
    "\n",
    "match.groups() is a method in Python's re module (regular expressions) that returns a tuple containing all the captured groups in a matched string\n",
    "For instance, if the regular expression is r\"(\\d+)-([a-z]+)\" and the matched string is \"123-abc\", then match.groups() would return ('123', 'abc'). If the match fails, match.groups() will raise an AttributeError."
   ]
  },
  {
   "cell_type": "code",
   "execution_count": null,
   "id": "e231956d",
   "metadata": {},
   "outputs": [],
   "source": [
    "df = pd.DataFrame(students)\n",
    "\n",
    "df = df.rename(columns={\n",
    "    'Subject1_Marks': 'ENG',\n",
    "    'Subject1_Grade': 'ENG GRADE',\n",
    "    'Subject2_Marks': 'LANG II',\n",
    "    'Subject2_Grade': 'LANG II GRADE',\n",
    "    'Subject3_Marks': 'MATH',\n",
    "    'Subject3_Grade': 'MATH GRADE',\n",
    "    'Subject4_Marks': 'SCI',\n",
    "    'Subject4_Grade': 'SCI GRADE',\n",
    "    'Subject5_Marks': 'SOC',\n",
    "    'Subject5_Grade': 'SOC GRADE'\n",
    "})\n",
    "\n",
    "\n",
    "print(df.to_string(index=False))\n"
   ]
  },
  {
   "cell_type": "code",
   "execution_count": null,
   "id": "f0879e98",
   "metadata": {},
   "outputs": [],
   "source": [
    "df.style.set_properties(**{\n",
    "    'text-align': 'center'\n",
    "}).set_table_styles([\n",
    "    {\"selector\": \"th\", \"props\": [(\"text-align\", \"center\")]}\n",
    "])\n"
   ]
  },
  {
   "cell_type": "code",
   "execution_count": null,
   "id": "89832255",
   "metadata": {},
   "outputs": [],
   "source": [
    "subject = input(\"Which subject do you want? (Enter short form, all caps): \")\n",
    "subject_grade = subject + \" GRADE\""
   ]
  },
  {
   "cell_type": "code",
   "execution_count": null,
   "id": "4acf7c97",
   "metadata": {},
   "outputs": [],
   "source": [
    "analyze_subject(df, subject, subject_grade)"
   ]
  }
 ],
 "metadata": {
  "kernelspec": {
   "display_name": "Python 3",
   "language": "python",
   "name": "python3"
  },
  "language_info": {
   "codemirror_mode": {
    "name": "ipython",
    "version": 3
   },
   "file_extension": ".py",
   "mimetype": "text/x-python",
   "name": "python",
   "nbconvert_exporter": "python",
   "pygments_lexer": "ipython3",
   "version": "3.13.2"
  }
 },
 "nbformat": 4,
 "nbformat_minor": 5
}
